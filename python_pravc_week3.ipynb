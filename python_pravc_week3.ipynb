{
 "cells": [
  {
   "cell_type": "markdown",
   "id": "ccf1b925",
   "metadata": {},
   "source": [
    "# 1.Python match"
   ]
  },
  {
   "cell_type": "code",
   "execution_count": 2,
   "id": "148d2c12",
   "metadata": {},
   "outputs": [
    {
     "name": "stdout",
     "output_type": "stream",
     "text": [
      "Friday\n"
     ]
    }
   ],
   "source": [
    "day=5\n",
    "match day:\n",
    "    case 1:\n",
    "        print(\"Monday\")\n",
    "    case 2:\n",
    "        print(\"Tuesday\")\n",
    "    case 3:\n",
    "        print(\"Wednesday\")\n",
    "    case 4:\n",
    "        print(\"Thursday\")\n",
    "    case 5:\n",
    "        print(\"Friday\")\n",
    "    case 6:\n",
    "        print(\"Saturday\")\n",
    "    case 7:\n",
    "        print(\"Sunday\")\n",
    "    case _:\n",
    "        print(\"Invalid day\")"
   ]
  },
  {
   "cell_type": "code",
   "execution_count": 4,
   "id": "28335291",
   "metadata": {},
   "outputs": [
    {
     "name": "stdout",
     "output_type": "stream",
     "text": [
      "Valid month\n"
     ]
    }
   ],
   "source": [
    "month=8\n",
    "match month:\n",
    "    case 1|2|3|4|5|6|7|8|9|10|11|12:\n",
    "        print(\"Valid month\")\n",
    "    case _:\n",
    "        print(\"Invalid month\")"
   ]
  },
  {
   "cell_type": "code",
   "execution_count": 5,
   "id": "f23c4494",
   "metadata": {},
   "outputs": [
    {
     "name": "stdout",
     "output_type": "stream",
     "text": [
      "Valid month and it is August\n"
     ]
    }
   ],
   "source": [
    "month=8\n",
    "match month:\n",
    "    case 1|2|3|4|5|6|7|8|9|10|11|12 if month==8:\n",
    "        print(\"Valid month and it is August\")\n",
    "    case _:\n",
    "        print(\"Invalid month\")"
   ]
  },
  {
   "cell_type": "markdown",
   "id": "5549723a",
   "metadata": {},
   "source": [
    "# 2.while loop"
   ]
  },
  {
   "cell_type": "code",
   "execution_count": 6,
   "id": "1df61a9e",
   "metadata": {},
   "outputs": [
    {
     "name": "stdout",
     "output_type": "stream",
     "text": [
      "1\n",
      "2\n",
      "3\n",
      "4\n",
      "5\n"
     ]
    }
   ],
   "source": [
    "i=1\n",
    "while i<6:\n",
    "    print(i)\n",
    "    i+=1"
   ]
  },
  {
   "cell_type": "code",
   "execution_count": 7,
   "id": "b424f03f",
   "metadata": {},
   "outputs": [
    {
     "ename": "SyntaxError",
     "evalue": "invalid syntax (3961186227.py, line 4)",
     "output_type": "error",
     "traceback": [
      "\u001b[1;36m  Cell \u001b[1;32mIn[7], line 4\u001b[1;36m\u001b[0m\n\u001b[1;33m    i++ # This is invalid in Python\u001b[0m\n\u001b[1;37m        ^\u001b[0m\n\u001b[1;31mSyntaxError\u001b[0m\u001b[1;31m:\u001b[0m invalid syntax\n"
     ]
    }
   ],
   "source": [
    "i=1\n",
    "while i<=6:\n",
    "    print(i)\n",
    "    i++ # This is invalid in Python"
   ]
  },
  {
   "cell_type": "code",
   "execution_count": 11,
   "id": "2b80204e",
   "metadata": {},
   "outputs": [
    {
     "name": "stdout",
     "output_type": "stream",
     "text": [
      "Try again\n",
      "Try again\n",
      "You guessed it right\n"
     ]
    }
   ],
   "source": [
    "a=5\n",
    "b=int(input(\"Enter a number: \"))\n",
    "while b!=a:\n",
    "    print(\"Try again\")\n",
    "    b=int(input(\"Enter a number: \"))\n",
    "    if b==a:\n",
    "        break\n",
    "print(\"You guessed it right\") \n",
    "    "
   ]
  }
 ],
 "metadata": {
  "kernelspec": {
   "display_name": "base",
   "language": "python",
   "name": "python3"
  },
  "language_info": {
   "codemirror_mode": {
    "name": "ipython",
    "version": 3
   },
   "file_extension": ".py",
   "mimetype": "text/x-python",
   "name": "python",
   "nbconvert_exporter": "python",
   "pygments_lexer": "ipython3",
   "version": "3.13.5"
  }
 },
 "nbformat": 4,
 "nbformat_minor": 5
}
