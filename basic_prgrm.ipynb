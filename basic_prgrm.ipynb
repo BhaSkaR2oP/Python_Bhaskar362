{
 "cells": [
  {
   "cell_type": "markdown",
   "id": "b19e0ff1",
   "metadata": {},
   "source": [
    "# 1. WAP to find square of no"
   ]
  },
  {
   "cell_type": "code",
   "execution_count": null,
   "id": "9fc46e33",
   "metadata": {},
   "outputs": [
    {
     "name": "stdout",
     "output_type": "stream",
     "text": [
      "Square of 5 is 25\n"
     ]
    }
   ],
   "source": [
    "a=int(input(\"Enter number:\"))\n",
    "square=a**2\n",
    "print(\"Square of\",a,\"is\",square)"
   ]
  },
  {
   "cell_type": "markdown",
   "id": "2f1b6319",
   "metadata": {},
   "source": [
    "# 2. WAP to take 2 nos as input and find their sum"
   ]
  },
  {
   "cell_type": "code",
   "execution_count": 2,
   "id": "796c6584",
   "metadata": {},
   "outputs": [
    {
     "name": "stdout",
     "output_type": "stream",
     "text": [
      "Sum of 5 and 4 is 9\n"
     ]
    }
   ],
   "source": [
    "x=int(input(\"Enter first number:\"))\n",
    "y=int(input(\"Enter second number:\"))\n",
    "sum=x+y\n",
    "print(\"Sum of\",x,\"and\",y,\"is\",sum)"
   ]
  },
  {
   "cell_type": "markdown",
   "id": "ee1b2f16",
   "metadata": {},
   "source": [
    "# 3. WAP to swap two variables"
   ]
  },
  {
   "cell_type": "code",
   "execution_count": 3,
   "id": "7eb5f802",
   "metadata": {},
   "outputs": [
    {
     "name": "stdout",
     "output_type": "stream",
     "text": [
      "Before swapping a = 4 b = 5\n",
      "After swapping a = 5 b = 4\n"
     ]
    }
   ],
   "source": [
    "a=int(input(\"Enter first number:\"))\n",
    "b=int(input(\"Enter second number:\"))\n",
    "print(\"Before swapping a =\",a,\"b =\",b)\n",
    "a,b=b,a\n",
    "print(\"After swapping a =\",a,\"b =\",b)"
   ]
  },
  {
   "cell_type": "markdown",
   "id": "54570ca4",
   "metadata": {},
   "source": [
    "# 4.WAP to check if no is even or odd"
   ]
  },
  {
   "cell_type": "code",
   "execution_count": 4,
   "id": "4b8fd1d1",
   "metadata": {},
   "outputs": [
    {
     "name": "stdout",
     "output_type": "stream",
     "text": [
      "5 is odd\n"
     ]
    }
   ],
   "source": [
    "def even_odd(n):\n",
    "    if n%2==0:\n",
    "        print(n,\"is even\")\n",
    "    else:\n",
    "        print(n,\"is odd\")\n",
    "num=int(input(\"Enter a number:\"))\n",
    "even_odd(num)"
   ]
  },
  {
   "cell_type": "markdown",
   "id": "7f428273",
   "metadata": {},
   "source": [
    "# 5. Number Guessing Game"
   ]
  },
  {
   "cell_type": "code",
   "execution_count": 5,
   "id": "6d5fb99d",
   "metadata": {},
   "outputs": [
    {
     "name": "stdout",
     "output_type": "stream",
     "text": [
      "Try again\n",
      "Try again\n",
      "Congratulations! You guessed it right.\n"
     ]
    }
   ],
   "source": [
    "a=5\n",
    "b=int(input(\"Guess the number between 1 to 10:\"))\n",
    "while b!=a:\n",
    "    print(\"Try again\")\n",
    "    b=int(input(\"Guess the number between 1 to 10:\"))\n",
    "print(\"Congratulations! You guessed it right.\")"
   ]
  },
  {
   "cell_type": "markdown",
   "id": "8aa13886",
   "metadata": {},
   "source": [
    "# 6.WAP to convert celsius to farehnite"
   ]
  },
  {
   "cell_type": "code",
   "execution_count": 6,
   "id": "32824825",
   "metadata": {},
   "outputs": [
    {
     "name": "stdout",
     "output_type": "stream",
     "text": [
      "temp in fare is: 77.0\n"
     ]
    }
   ],
   "source": [
    "cel=int(input(\"enter temp in celcius:\"))\n",
    "fare=(cel*9/5)+32\n",
    "print(\"temp in fare is:\",fare)\n"
   ]
  },
  {
   "cell_type": "markdown",
   "id": "b132d9db",
   "metadata": {},
   "source": [
    "# 7.WAP to check the type of variable"
   ]
  },
  {
   "cell_type": "code",
   "execution_count": 7,
   "id": "8cdfb170",
   "metadata": {},
   "outputs": [
    {
     "data": {
      "text/plain": [
       "(int, str, float)"
      ]
     },
     "execution_count": 7,
     "metadata": {},
     "output_type": "execute_result"
    }
   ],
   "source": [
    "a,b,c = 2,'bhaskar',4.2\n",
    "type(a),type(b),type(c)"
   ]
  },
  {
   "cell_type": "markdown",
   "id": "997719c7",
   "metadata": {},
   "source": [
    "# 8. WAP to calulate simple interest"
   ]
  },
  {
   "cell_type": "code",
   "execution_count": 8,
   "id": "0c7e508b",
   "metadata": {},
   "outputs": [
    {
     "name": "stdout",
     "output_type": "stream",
     "text": [
      "630.0\n"
     ]
    }
   ],
   "source": [
    "p=int(input(\"enter principle amount:\"))\n",
    "t=int(input(\"enter time:\"))\n",
    "r=float(input(\"rate of interest per year:\"))\n",
    "si=(p*r*t)/100\n",
    "print(si)"
   ]
  },
  {
   "cell_type": "code",
   "execution_count": 9,
   "id": "057f2d55",
   "metadata": {},
   "outputs": [],
   "source": [
    "# 9.WAP TO REVERSE a string"
   ]
  },
  {
   "cell_type": "code",
   "execution_count": 17,
   "id": "4fd7f786",
   "metadata": {},
   "outputs": [
    {
     "name": "stdout",
     "output_type": "stream",
     "text": [
      "raksahb\n"
     ]
    }
   ],
   "source": [
    "a='bhaskar'\n",
    "print(a[::-1])"
   ]
  },
  {
   "cell_type": "code",
   "execution_count": null,
   "id": "39434ea8",
   "metadata": {},
   "outputs": [],
   "source": []
  }
 ],
 "metadata": {
  "kernelspec": {
   "display_name": "base",
   "language": "python",
   "name": "python3"
  },
  "language_info": {
   "codemirror_mode": {
    "name": "ipython",
    "version": 3
   },
   "file_extension": ".py",
   "mimetype": "text/x-python",
   "name": "python",
   "nbconvert_exporter": "python",
   "pygments_lexer": "ipython3",
   "version": "3.13.5"
  }
 },
 "nbformat": 4,
 "nbformat_minor": 5
}
