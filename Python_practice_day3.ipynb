{
 "cells": [
  {
   "cell_type": "markdown",
   "id": "9d16a94d",
   "metadata": {},
   "source": [
    "#data types\n",
    "#1.Numeric data type"
   ]
  },
  {
   "cell_type": "code",
   "execution_count": 1,
   "id": "62d83106",
   "metadata": {},
   "outputs": [],
   "source": [
    "#data types\n",
    "#1.Numeric data type\n",
    "x1=1\n",
    "x2=True\n",
    "x3=10.023\n",
    "x4=10+3j"
   ]
  },
  {
   "cell_type": "code",
   "execution_count": 2,
   "id": "f9126872",
   "metadata": {},
   "outputs": [
    {
     "data": {
      "text/plain": [
       "int"
      ]
     },
     "execution_count": 2,
     "metadata": {},
     "output_type": "execute_result"
    }
   ],
   "source": [
    "type(x1)"
   ]
  },
  {
   "cell_type": "code",
   "execution_count": 3,
   "id": "d0a67cc4",
   "metadata": {},
   "outputs": [
    {
     "data": {
      "text/plain": [
       "bool"
      ]
     },
     "execution_count": 3,
     "metadata": {},
     "output_type": "execute_result"
    }
   ],
   "source": [
    "type(x2)"
   ]
  },
  {
   "cell_type": "code",
   "execution_count": 4,
   "id": "839e9b92",
   "metadata": {},
   "outputs": [
    {
     "data": {
      "text/plain": [
       "float"
      ]
     },
     "execution_count": 4,
     "metadata": {},
     "output_type": "execute_result"
    }
   ],
   "source": [
    "type(x3)"
   ]
  },
  {
   "cell_type": "code",
   "execution_count": 5,
   "id": "a26aa409",
   "metadata": {},
   "outputs": [
    {
     "data": {
      "text/plain": [
       "complex"
      ]
     },
     "execution_count": 5,
     "metadata": {},
     "output_type": "execute_result"
    }
   ],
   "source": [
    "type(x4)"
   ]
  },
  {
   "cell_type": "markdown",
   "id": "3be93ed6",
   "metadata": {},
   "source": [
    "2.string data type"
   ]
  },
  {
   "cell_type": "code",
   "execution_count": 6,
   "id": "88c5eb8a",
   "metadata": {},
   "outputs": [],
   "source": [
    "#'hello' is same as \"hello\" is an eg of single line string\n",
    "#multiline strings\n",
    "a='''my name is bhaskar \n",
    "i am good boy'''\n",
    "b=\"\"\"my name is bhaskar \n",
    "i am good boy\"\"\""
   ]
  },
  {
   "cell_type": "code",
   "execution_count": 7,
   "id": "43ff4294",
   "metadata": {},
   "outputs": [
    {
     "data": {
      "text/plain": [
       "'my name is bhaskar \\ni am good boy'"
      ]
     },
     "execution_count": 7,
     "metadata": {},
     "output_type": "execute_result"
    }
   ],
   "source": [
    "a"
   ]
  },
  {
   "cell_type": "code",
   "execution_count": 8,
   "id": "70099157",
   "metadata": {},
   "outputs": [
    {
     "data": {
      "text/plain": [
       "'my name is bhaskar \\ni am good boy'"
      ]
     },
     "execution_count": 8,
     "metadata": {},
     "output_type": "execute_result"
    }
   ],
   "source": [
    "b"
   ]
  },
  {
   "cell_type": "code",
   "execution_count": 9,
   "id": "28dcd546",
   "metadata": {},
   "outputs": [
    {
     "name": "stdout",
     "output_type": "stream",
     "text": [
      "my name is bhaskar \n",
      "i am good boy\n"
     ]
    }
   ],
   "source": [
    "print(a)"
   ]
  },
  {
   "cell_type": "code",
   "execution_count": 10,
   "id": "f3d0441d",
   "metadata": {},
   "outputs": [
    {
     "data": {
      "text/plain": [
       "33"
      ]
     },
     "execution_count": 10,
     "metadata": {},
     "output_type": "execute_result"
    }
   ],
   "source": [
    "len(a)"
   ]
  },
  {
   "cell_type": "code",
   "execution_count": 11,
   "id": "09ba86fc",
   "metadata": {},
   "outputs": [],
   "source": [
    "b=\"hell world\""
   ]
  },
  {
   "cell_type": "code",
   "execution_count": 14,
   "id": "4906aac9",
   "metadata": {},
   "outputs": [
    {
     "data": {
      "text/plain": [
       "'h'"
      ]
     },
     "execution_count": 14,
     "metadata": {},
     "output_type": "execute_result"
    }
   ],
   "source": [
    "b[0]"
   ]
  },
  {
   "cell_type": "code",
   "execution_count": 15,
   "id": "bd0e6480",
   "metadata": {},
   "outputs": [
    {
     "name": "stdout",
     "output_type": "stream",
     "text": [
      "True\n"
     ]
    }
   ],
   "source": [
    "#check string\n",
    "txt=\"i am bhaskar pandey\"\n",
    "print(\"bhaskar\" in txt)"
   ]
  },
  {
   "cell_type": "code",
   "execution_count": 17,
   "id": "942a3389",
   "metadata": {},
   "outputs": [
    {
     "data": {
      "text/plain": [
       "False"
      ]
     },
     "execution_count": 17,
     "metadata": {},
     "output_type": "execute_result"
    }
   ],
   "source": [
    "\"no\" in txt"
   ]
  },
  {
   "cell_type": "code",
   "execution_count": 18,
   "id": "3902724c",
   "metadata": {},
   "outputs": [
    {
     "data": {
      "text/plain": [
       "True"
      ]
     },
     "execution_count": 18,
     "metadata": {},
     "output_type": "execute_result"
    }
   ],
   "source": [
    "\"no\" not in txt"
   ]
  },
  {
   "cell_type": "markdown",
   "id": "7e746e48",
   "metadata": {},
   "source": [
    "SLicing strings --- print a range of charachters in string"
   ]
  },
  {
   "cell_type": "code",
   "execution_count": 20,
   "id": "7dd12669",
   "metadata": {},
   "outputs": [
    {
     "data": {
      "text/plain": [
       "'e'"
      ]
     },
     "execution_count": 20,
     "metadata": {},
     "output_type": "execute_result"
    }
   ],
   "source": [
    "a=\"Hello World\"\n",
    "a[1:2]"
   ]
  },
  {
   "cell_type": "code",
   "execution_count": 21,
   "id": "a5694498",
   "metadata": {},
   "outputs": [
    {
     "data": {
      "text/plain": [
       "'or'"
      ]
     },
     "execution_count": 21,
     "metadata": {},
     "output_type": "execute_result"
    }
   ],
   "source": [
    "a[-4:-2]"
   ]
  },
  {
   "cell_type": "code",
   "execution_count": 22,
   "id": "45f15d73",
   "metadata": {},
   "outputs": [
    {
     "data": {
      "text/plain": [
       "'el'"
      ]
     },
     "execution_count": 22,
     "metadata": {},
     "output_type": "execute_result"
    }
   ],
   "source": [
    "b=\"Hello\"\n",
    "b[-4:-2]"
   ]
  },
  {
   "cell_type": "code",
   "execution_count": 23,
   "id": "ad123f6e",
   "metadata": {},
   "outputs": [
    {
     "data": {
      "text/plain": [
       "'HELLO'"
      ]
     },
     "execution_count": 23,
     "metadata": {},
     "output_type": "execute_result"
    }
   ],
   "source": [
    "b.upper()"
   ]
  },
  {
   "cell_type": "code",
   "execution_count": 24,
   "id": "21dafa4c",
   "metadata": {},
   "outputs": [
    {
     "data": {
      "text/plain": [
       "'hello'"
      ]
     },
     "execution_count": 24,
     "metadata": {},
     "output_type": "execute_result"
    }
   ],
   "source": [
    "b.lower()"
   ]
  },
  {
   "cell_type": "code",
   "execution_count": null,
   "id": "988647b3",
   "metadata": {},
   "outputs": [],
   "source": []
  }
 ],
 "metadata": {
  "kernelspec": {
   "display_name": "base",
   "language": "python",
   "name": "python3"
  },
  "language_info": {
   "codemirror_mode": {
    "name": "ipython",
    "version": 3
   },
   "file_extension": ".py",
   "mimetype": "text/x-python",
   "name": "python",
   "nbconvert_exporter": "python",
   "pygments_lexer": "ipython3",
   "version": "3.13.5"
  }
 },
 "nbformat": 4,
 "nbformat_minor": 5
}
