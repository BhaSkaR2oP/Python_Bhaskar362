{
 "cells": [
  {
   "cell_type": "markdown",
   "id": "9d16a94d",
   "metadata": {},
   "source": [
    "# data types\n",
    "# 1.Numeric data type"
   ]
  },
  {
   "cell_type": "code",
   "execution_count": 1,
   "id": "62d83106",
   "metadata": {},
   "outputs": [],
   "source": [
    "#data types\n",
    "#1.Numeric data type\n",
    "x1=1\n",
    "x2=True\n",
    "x3=10.023\n",
    "x4=10+3j"
   ]
  },
  {
   "cell_type": "code",
   "execution_count": 2,
   "id": "f9126872",
   "metadata": {},
   "outputs": [
    {
     "data": {
      "text/plain": [
       "int"
      ]
     },
     "execution_count": 2,
     "metadata": {},
     "output_type": "execute_result"
    }
   ],
   "source": [
    "type(x1)"
   ]
  },
  {
   "cell_type": "code",
   "execution_count": 3,
   "id": "d0a67cc4",
   "metadata": {},
   "outputs": [
    {
     "data": {
      "text/plain": [
       "bool"
      ]
     },
     "execution_count": 3,
     "metadata": {},
     "output_type": "execute_result"
    }
   ],
   "source": [
    "type(x2)"
   ]
  },
  {
   "cell_type": "code",
   "execution_count": 4,
   "id": "839e9b92",
   "metadata": {},
   "outputs": [
    {
     "data": {
      "text/plain": [
       "float"
      ]
     },
     "execution_count": 4,
     "metadata": {},
     "output_type": "execute_result"
    }
   ],
   "source": [
    "type(x3)"
   ]
  },
  {
   "cell_type": "code",
   "execution_count": 5,
   "id": "a26aa409",
   "metadata": {},
   "outputs": [
    {
     "data": {
      "text/plain": [
       "complex"
      ]
     },
     "execution_count": 5,
     "metadata": {},
     "output_type": "execute_result"
    }
   ],
   "source": [
    "type(x4)"
   ]
  },
  {
   "cell_type": "markdown",
   "id": "3be93ed6",
   "metadata": {},
   "source": [
    "# 2.string data type"
   ]
  },
  {
   "cell_type": "code",
   "execution_count": 6,
   "id": "88c5eb8a",
   "metadata": {},
   "outputs": [],
   "source": [
    "#'hello' is same as \"hello\" is an eg of single line string\n",
    "#multiline strings\n",
    "a='''my name is bhaskar \n",
    "i am good boy'''\n",
    "b=\"\"\"my name is bhaskar \n",
    "i am good boy\"\"\""
   ]
  },
  {
   "cell_type": "code",
   "execution_count": 7,
   "id": "43ff4294",
   "metadata": {},
   "outputs": [
    {
     "data": {
      "text/plain": [
       "'my name is bhaskar \\ni am good boy'"
      ]
     },
     "execution_count": 7,
     "metadata": {},
     "output_type": "execute_result"
    }
   ],
   "source": [
    "a"
   ]
  },
  {
   "cell_type": "code",
   "execution_count": 8,
   "id": "70099157",
   "metadata": {},
   "outputs": [
    {
     "data": {
      "text/plain": [
       "'my name is bhaskar \\ni am good boy'"
      ]
     },
     "execution_count": 8,
     "metadata": {},
     "output_type": "execute_result"
    }
   ],
   "source": [
    "b"
   ]
  },
  {
   "cell_type": "code",
   "execution_count": 9,
   "id": "28dcd546",
   "metadata": {},
   "outputs": [
    {
     "name": "stdout",
     "output_type": "stream",
     "text": [
      "my name is bhaskar \n",
      "i am good boy\n"
     ]
    }
   ],
   "source": [
    "print(a)"
   ]
  },
  {
   "cell_type": "code",
   "execution_count": 10,
   "id": "f3d0441d",
   "metadata": {},
   "outputs": [
    {
     "data": {
      "text/plain": [
       "33"
      ]
     },
     "execution_count": 10,
     "metadata": {},
     "output_type": "execute_result"
    }
   ],
   "source": [
    "len(a)"
   ]
  },
  {
   "cell_type": "code",
   "execution_count": 11,
   "id": "09ba86fc",
   "metadata": {},
   "outputs": [],
   "source": [
    "b=\"hell world\""
   ]
  },
  {
   "cell_type": "code",
   "execution_count": 14,
   "id": "4906aac9",
   "metadata": {},
   "outputs": [
    {
     "data": {
      "text/plain": [
       "'h'"
      ]
     },
     "execution_count": 14,
     "metadata": {},
     "output_type": "execute_result"
    }
   ],
   "source": [
    "b[0]"
   ]
  },
  {
   "cell_type": "code",
   "execution_count": 15,
   "id": "bd0e6480",
   "metadata": {},
   "outputs": [
    {
     "name": "stdout",
     "output_type": "stream",
     "text": [
      "True\n"
     ]
    }
   ],
   "source": [
    "#check string\n",
    "txt=\"i am bhaskar pandey\"\n",
    "print(\"bhaskar\" in txt)"
   ]
  },
  {
   "cell_type": "code",
   "execution_count": 17,
   "id": "942a3389",
   "metadata": {},
   "outputs": [
    {
     "data": {
      "text/plain": [
       "False"
      ]
     },
     "execution_count": 17,
     "metadata": {},
     "output_type": "execute_result"
    }
   ],
   "source": [
    "\"no\" in txt"
   ]
  },
  {
   "cell_type": "code",
   "execution_count": 18,
   "id": "3902724c",
   "metadata": {},
   "outputs": [
    {
     "data": {
      "text/plain": [
       "True"
      ]
     },
     "execution_count": 18,
     "metadata": {},
     "output_type": "execute_result"
    }
   ],
   "source": [
    "\"no\" not in txt"
   ]
  },
  {
   "cell_type": "markdown",
   "id": "7e746e48",
   "metadata": {},
   "source": [
    "# SLicing strings --- print a range of charachters in string"
   ]
  },
  {
   "cell_type": "code",
   "execution_count": 20,
   "id": "7dd12669",
   "metadata": {},
   "outputs": [
    {
     "data": {
      "text/plain": [
       "'e'"
      ]
     },
     "execution_count": 20,
     "metadata": {},
     "output_type": "execute_result"
    }
   ],
   "source": [
    "a=\"Hello World\"\n",
    "a[1:2]"
   ]
  },
  {
   "cell_type": "code",
   "execution_count": 21,
   "id": "a5694498",
   "metadata": {},
   "outputs": [
    {
     "data": {
      "text/plain": [
       "'or'"
      ]
     },
     "execution_count": 21,
     "metadata": {},
     "output_type": "execute_result"
    }
   ],
   "source": [
    "a[-4:-2]"
   ]
  },
  {
   "cell_type": "code",
   "execution_count": 22,
   "id": "45f15d73",
   "metadata": {},
   "outputs": [
    {
     "data": {
      "text/plain": [
       "'el'"
      ]
     },
     "execution_count": 22,
     "metadata": {},
     "output_type": "execute_result"
    }
   ],
   "source": [
    "b=\"Hello\"\n",
    "b[-4:-2]"
   ]
  },
  {
   "cell_type": "code",
   "execution_count": 23,
   "id": "ad123f6e",
   "metadata": {},
   "outputs": [
    {
     "data": {
      "text/plain": [
       "'HELLO'"
      ]
     },
     "execution_count": 23,
     "metadata": {},
     "output_type": "execute_result"
    }
   ],
   "source": [
    "b.upper()"
   ]
  },
  {
   "cell_type": "code",
   "execution_count": 24,
   "id": "21dafa4c",
   "metadata": {},
   "outputs": [
    {
     "data": {
      "text/plain": [
       "'hello'"
      ]
     },
     "execution_count": 24,
     "metadata": {},
     "output_type": "execute_result"
    }
   ],
   "source": [
    "b.lower()"
   ]
  },
  {
   "cell_type": "code",
   "execution_count": 5,
   "id": "988647b3",
   "metadata": {},
   "outputs": [
    {
     "name": "stdout",
     "output_type": "stream",
     "text": [
      "Jello\n"
     ]
    }
   ],
   "source": [
    "b=\"hello\"\n",
    "print(b.replace(\"h\",\"J\"))"
   ]
  },
  {
   "cell_type": "code",
   "execution_count": 9,
   "id": "dac7f6e8",
   "metadata": {},
   "outputs": [
    {
     "data": {
      "text/plain": [
       "'my name is bhaskar, and i am 32'"
      ]
     },
     "execution_count": 9,
     "metadata": {},
     "output_type": "execute_result"
    }
   ],
   "source": [
    "age =32\n",
    "txt=f\"my name is bhaskar, and i am {age}\"\n",
    "txt"
   ]
  },
  {
   "cell_type": "code",
   "execution_count": 11,
   "id": "7e85485d",
   "metadata": {},
   "outputs": [
    {
     "data": {
      "text/plain": [
       "'bhaskar'"
      ]
     },
     "execution_count": 11,
     "metadata": {},
     "output_type": "execute_result"
    }
   ],
   "source": [
    "input(\"enter your name:\")"
   ]
  },
  {
   "cell_type": "markdown",
   "id": "69199694",
   "metadata": {},
   "source": [
    "# Python BOOLEANs"
   ]
  },
  {
   "cell_type": "code",
   "execution_count": 12,
   "id": "615e4fb6",
   "metadata": {},
   "outputs": [
    {
     "name": "stdout",
     "output_type": "stream",
     "text": [
      "True\n"
     ]
    }
   ],
   "source": [
    "print(10>9)"
   ]
  },
  {
   "cell_type": "code",
   "execution_count": 13,
   "id": "e0f1c93f",
   "metadata": {},
   "outputs": [
    {
     "name": "stdout",
     "output_type": "stream",
     "text": [
      "False\n"
     ]
    }
   ],
   "source": [
    "print(10<9)"
   ]
  },
  {
   "cell_type": "code",
   "execution_count": 14,
   "id": "841be2a5",
   "metadata": {},
   "outputs": [
    {
     "name": "stdout",
     "output_type": "stream",
     "text": [
      "True\n"
     ]
    }
   ],
   "source": [
    "print(bool(\"hello\"))"
   ]
  },
  {
   "cell_type": "code",
   "execution_count": 15,
   "id": "c2675ae0",
   "metadata": {},
   "outputs": [
    {
     "name": "stdout",
     "output_type": "stream",
     "text": [
      "True\n"
     ]
    }
   ],
   "source": [
    "print(bool(15))"
   ]
  },
  {
   "cell_type": "code",
   "execution_count": 16,
   "id": "1aef1ef6",
   "metadata": {},
   "outputs": [
    {
     "name": "stdout",
     "output_type": "stream",
     "text": [
      "False\n"
     ]
    }
   ],
   "source": [
    "print(bool(0))"
   ]
  },
  {
   "cell_type": "code",
   "execution_count": 17,
   "id": "2aa2ac72",
   "metadata": {},
   "outputs": [
    {
     "name": "stdout",
     "output_type": "stream",
     "text": [
      "False\n"
     ]
    }
   ],
   "source": [
    "print(bool(\"\"))"
   ]
  },
  {
   "cell_type": "code",
   "execution_count": 18,
   "id": "67154bb0",
   "metadata": {},
   "outputs": [
    {
     "name": "stdout",
     "output_type": "stream",
     "text": [
      "True\n"
     ]
    }
   ],
   "source": [
    "print(bool(\" \"))"
   ]
  },
  {
   "cell_type": "markdown",
   "id": "7279bc32",
   "metadata": {},
   "source": [
    "# Sequence data type\n",
    "1. list\n",
    "2. tuple\n",
    "3. range"
   ]
  },
  {
   "cell_type": "code",
   "execution_count": 19,
   "id": "a993ff3e",
   "metadata": {},
   "outputs": [
    {
     "data": {
      "text/plain": [
       "list"
      ]
     },
     "execution_count": 19,
     "metadata": {},
     "output_type": "execute_result"
    }
   ],
   "source": [
    "list1=[\"apple\",\"banana\",2,4]\n",
    "type(list1)"
   ]
  },
  {
   "cell_type": "code",
   "execution_count": 20,
   "id": "16032a60",
   "metadata": {},
   "outputs": [
    {
     "data": {
      "text/plain": [
       "['banana']"
      ]
     },
     "execution_count": 20,
     "metadata": {},
     "output_type": "execute_result"
    }
   ],
   "source": [
    "list1[1:2]"
   ]
  },
  {
   "cell_type": "code",
   "execution_count": 22,
   "id": "3ab53e13",
   "metadata": {},
   "outputs": [],
   "source": [
    "list2=[\"apple\",\"banana\",\"cherry\"]"
   ]
  },
  {
   "cell_type": "code",
   "execution_count": 23,
   "id": "a23750aa",
   "metadata": {},
   "outputs": [
    {
     "data": {
      "text/plain": [
       "['apple', 'banana', 2, 4, 'apple', 'banana', 'cherry']"
      ]
     },
     "execution_count": 23,
     "metadata": {},
     "output_type": "execute_result"
    }
   ],
   "source": [
    "list1+list2"
   ]
  },
  {
   "cell_type": "code",
   "execution_count": 24,
   "id": "5343f8a5",
   "metadata": {},
   "outputs": [
    {
     "data": {
      "text/plain": [
       "['apple', 'banana', 'cherry', 'apple', 'banana', 'cherry']"
      ]
     },
     "execution_count": 24,
     "metadata": {},
     "output_type": "execute_result"
    }
   ],
   "source": [
    "list2*2"
   ]
  },
  {
   "cell_type": "code",
   "execution_count": 25,
   "id": "21501332",
   "metadata": {},
   "outputs": [
    {
     "name": "stdout",
     "output_type": "stream",
     "text": [
      "apple\n"
     ]
    }
   ],
   "source": [
    "print(list1[0])"
   ]
  },
  {
   "cell_type": "code",
   "execution_count": 26,
   "id": "6b535730",
   "metadata": {},
   "outputs": [],
   "source": [
    "tuple1=(\"apple\",\"banana\",\"cherry\")"
   ]
  },
  {
   "cell_type": "code",
   "execution_count": 29,
   "id": "f806441e",
   "metadata": {},
   "outputs": [],
   "source": [
    "dict1={\"name\":\"bhaskar\",\"age\":22,\"city\":\"delhi,india\",\"phone\":1234567890}"
   ]
  },
  {
   "cell_type": "markdown",
   "id": "f009d9ec",
   "metadata": {},
   "source": [
    "# range(start,stop,step) ----start from 0 if not specified \n",
    "# stop is mandatory, \n",
    "# step is optional default is 1"
   ]
  },
  {
   "cell_type": "code",
   "execution_count": null,
   "id": "53bc8d10",
   "metadata": {},
   "outputs": [],
   "source": []
  }
 ],
 "metadata": {
  "kernelspec": {
   "display_name": "base",
   "language": "python",
   "name": "python3"
  },
  "language_info": {
   "codemirror_mode": {
    "name": "ipython",
    "version": 3
   },
   "file_extension": ".py",
   "mimetype": "text/x-python",
   "name": "python",
   "nbconvert_exporter": "python",
   "pygments_lexer": "ipython3",
   "version": "3.13.5"
  }
 },
 "nbformat": 4,
 "nbformat_minor": 5
}
