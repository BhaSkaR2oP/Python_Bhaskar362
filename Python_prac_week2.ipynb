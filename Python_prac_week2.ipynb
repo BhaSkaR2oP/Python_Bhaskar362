{
 "cells": [
  {
   "cell_type": "markdown",
   "id": "245cf1f8",
   "metadata": {},
   "source": [
    "# 1.INPUT"
   ]
  },
  {
   "cell_type": "code",
   "execution_count": 1,
   "id": "98c81e77",
   "metadata": {},
   "outputs": [
    {
     "name": "stdout",
     "output_type": "stream",
     "text": [
      "You entered:  see\n",
      "You entered integer:  4\n"
     ]
    }
   ],
   "source": [
    "# input() for versions after 3.0\n",
    "# raw_input() for versions before 3.0\n",
    "v=input(\"Enter something: \") # default is string\n",
    "print(\"You entered: \", v)\n",
    "a=int(input(\"Enter an integer: \")) # convert to integer\n",
    "print(\"You entered integer: \", a)"
   ]
  },
  {
   "cell_type": "markdown",
   "id": "80934ebd",
   "metadata": {},
   "source": [
    "# 2.Conditional Statements"
   ]
  },
  {
   "cell_type": "code",
   "execution_count": 2,
   "id": "6bb50981",
   "metadata": {},
   "outputs": [
    {
     "name": "stdout",
     "output_type": "stream",
     "text": [
      "b is greater\n"
     ]
    }
   ],
   "source": [
    "a=5\n",
    "b=10\n",
    "if a>b:\n",
    "    print(\"a is greater\")\n",
    "elif a==b:\n",
    "    print(\"a and b are equal\")\n",
    "else:\n",
    "    print(\"b is greater\")\n",
    "    "
   ]
  },
  {
   "cell_type": "markdown",
   "id": "b582f258",
   "metadata": {},
   "source": [
    "# 3.Short hand if"
   ]
  },
  {
   "cell_type": "code",
   "execution_count": 8,
   "id": "3bda1740",
   "metadata": {},
   "outputs": [
    {
     "name": "stdout",
     "output_type": "stream",
     "text": [
      "b is greater\n"
     ]
    }
   ],
   "source": [
    "a,b=5,10\n",
    "if a<b: print(\"b is greater\") # short hand if"
   ]
  },
  {
   "cell_type": "markdown",
   "id": "e03247ee",
   "metadata": {},
   "source": [
    "# 3.Short hand if else"
   ]
  },
  {
   "cell_type": "code",
   "execution_count": 9,
   "id": "f6812808",
   "metadata": {},
   "outputs": [
    {
     "name": "stdout",
     "output_type": "stream",
     "text": [
      "B\n"
     ]
    }
   ],
   "source": [
    "a=2\n",
    "b=300\n",
    "print(\"A\") if a>b else print(\"B\") "
   ]
  },
  {
   "cell_type": "code",
   "execution_count": 10,
   "id": "4af5b795",
   "metadata": {},
   "outputs": [
    {
     "name": "stdout",
     "output_type": "stream",
     "text": [
      "=\n"
     ]
    }
   ],
   "source": [
    "a=300\n",
    "b=300\n",
    "print(\"A\") if a>b else print(\"=\") if a==b else print(\"B\") # short hand if else"
   ]
  },
  {
   "cell_type": "markdown",
   "id": "b8f024f1",
   "metadata": {},
   "source": [
    "# AND"
   ]
  },
  {
   "cell_type": "code",
   "execution_count": 12,
   "id": "a046fd75",
   "metadata": {},
   "outputs": [
    {
     "name": "stdout",
     "output_type": "stream",
     "text": [
      "both conditions are true\n"
     ]
    }
   ],
   "source": [
    "a=200\n",
    "b=30\n",
    "c=500\n",
    "if a>b and a<c:\n",
    "    print(\"both conditions are true\")"
   ]
  },
  {
   "cell_type": "markdown",
   "id": "121254b1",
   "metadata": {},
   "source": [
    "# NOT"
   ]
  },
  {
   "cell_type": "code",
   "execution_count": 14,
   "id": "155f994e",
   "metadata": {},
   "outputs": [
    {
     "name": "stdout",
     "output_type": "stream",
     "text": [
      "condition is true\n"
     ]
    }
   ],
   "source": [
    "a=33\n",
    "b=200\n",
    "if not a>b:\n",
    "    print(\"condition is true\")"
   ]
  },
  {
   "cell_type": "code",
   "execution_count": null,
   "id": "31328737",
   "metadata": {},
   "outputs": [],
   "source": []
  }
 ],
 "metadata": {
  "kernelspec": {
   "display_name": "base",
   "language": "python",
   "name": "python3"
  },
  "language_info": {
   "codemirror_mode": {
    "name": "ipython",
    "version": 3
   },
   "file_extension": ".py",
   "mimetype": "text/x-python",
   "name": "python",
   "nbconvert_exporter": "python",
   "pygments_lexer": "ipython3",
   "version": "3.13.5"
  }
 },
 "nbformat": 4,
 "nbformat_minor": 5
}
