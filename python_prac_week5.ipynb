{
 "cells": [
  {
   "cell_type": "markdown",
   "id": "a6915754",
   "metadata": {},
   "source": [
    "# 1.List"
   ]
  },
  {
   "cell_type": "code",
   "execution_count": 2,
   "id": "c53c27cb",
   "metadata": {},
   "outputs": [
    {
     "data": {
      "text/plain": [
       "['rohan', 1, 5]"
      ]
     },
     "execution_count": 2,
     "metadata": {},
     "output_type": "execute_result"
    }
   ],
   "source": [
    "list1=[\"rohan\",1,5]\n",
    "list1"
   ]
  },
  {
   "cell_type": "code",
   "execution_count": 3,
   "id": "fcde770f",
   "metadata": {},
   "outputs": [],
   "source": [
    "#ordered \n",
    "#changable\n",
    "#duplicates allowed\n",
    "#indexed\n",
    "#heterogeneous"
   ]
  },
  {
   "cell_type": "code",
   "execution_count": 4,
   "id": "7b20c787",
   "metadata": {},
   "outputs": [
    {
     "data": {
      "text/plain": [
       "['rohan', 1, 5, 'apple', 5]"
      ]
     },
     "execution_count": 4,
     "metadata": {},
     "output_type": "execute_result"
    }
   ],
   "source": [
    "list1=[\"rohan\",1,5,\"apple\",5]\n",
    "list1"
   ]
  },
  {
   "cell_type": "code",
   "execution_count": 5,
   "id": "6480adc3",
   "metadata": {},
   "outputs": [
    {
     "name": "stdout",
     "output_type": "stream",
     "text": [
      "5\n"
     ]
    }
   ],
   "source": [
    "print(len(list1)) #length of list"
   ]
  },
  {
   "cell_type": "code",
   "execution_count": null,
   "id": "cb8bcc9f",
   "metadata": {},
   "outputs": [],
   "source": [
    "#list() constructor\n",
    "#creates list from iterable\n",
    "#syntax: list(iterable)"
   ]
  },
  {
   "cell_type": "code",
   "execution_count": 7,
   "id": "311c91c7",
   "metadata": {},
   "outputs": [
    {
     "data": {
      "text/plain": [
       "['apple', 'banana', 'cherry']"
      ]
     },
     "execution_count": 7,
     "metadata": {},
     "output_type": "execute_result"
    }
   ],
   "source": [
    "list2=list((\"apple\",\"banana\",\"cherry\"))\n",
    "list2"
   ]
  },
  {
   "cell_type": "code",
   "execution_count": 8,
   "id": "cd6a84c8",
   "metadata": {},
   "outputs": [
    {
     "name": "stdout",
     "output_type": "stream",
     "text": [
      "rohan\n",
      "5\n",
      "[1, 5, 'apple']\n",
      "['rohan', 5, 5]\n",
      "[5, 'apple', 5, 1, 'rohan']\n",
      "[1, 5, 'apple', 5]\n",
      "['rohan', 1, 5]\n"
     ]
    }
   ],
   "source": [
    "#accessing list items\n",
    "print(list1[0]) #first item\n",
    "print(list1[-1]) #last item\n",
    "print(list1[1:4]) #slicing\n",
    "print(list1[::2]) #step\n",
    "print(list1[::-1]) #reverse list\n",
    "print(list1[1:]) #from index 1 to end\n",
    "print(list1[:3]) #from start to index 3"
   ]
  },
  {
   "cell_type": "code",
   "execution_count": 9,
   "id": "c3baddbc",
   "metadata": {},
   "outputs": [
    {
     "name": "stdout",
     "output_type": "stream",
     "text": [
      "5\n"
     ]
    }
   ],
   "source": [
    "#negative indexing\n",
    "print(list1[-3]) #third last item"
   ]
  },
  {
   "cell_type": "code",
   "execution_count": 10,
   "id": "862ebfae",
   "metadata": {},
   "outputs": [
    {
     "data": {
      "text/plain": [
       "['rohan', 1, 5, 'apple', 5]"
      ]
     },
     "execution_count": 10,
     "metadata": {},
     "output_type": "execute_result"
    }
   ],
   "source": [
    "list1"
   ]
  },
  {
   "cell_type": "code",
   "execution_count": 12,
   "id": "65bf38ac",
   "metadata": {},
   "outputs": [
    {
     "name": "stdout",
     "output_type": "stream",
     "text": [
      "[1, 5, 'apple']\n",
      "[1, 5, 'apple']\n"
     ]
    }
   ],
   "source": [
    "#range of indexes\n",
    "print(list1[1:4]) #from index 1 to 3\n",
    "print(list1[-4:-1]) #from index -4 to -2"
   ]
  },
  {
   "cell_type": "code",
   "execution_count": 13,
   "id": "badd61fd",
   "metadata": {},
   "outputs": [
    {
     "name": "stdout",
     "output_type": "stream",
     "text": [
      "yes, 'apple' is in the list\n"
     ]
    }
   ],
   "source": [
    "#checking item exists\n",
    "if \"apple\" in list1:\n",
    "    print(\"yes, 'apple' is in the list\")"
   ]
  },
  {
   "cell_type": "code",
   "execution_count": 14,
   "id": "ffa97f76",
   "metadata": {},
   "outputs": [
    {
     "data": {
      "text/plain": [
       "['rohan', 'banana', 5, 'apple', 5]"
      ]
     },
     "execution_count": 14,
     "metadata": {},
     "output_type": "execute_result"
    }
   ],
   "source": [
    "#changing item value\n",
    "list1[1]=\"banana\"\n",
    "list1"
   ]
  },
  {
   "cell_type": "code",
   "execution_count": 15,
   "id": "27bb9206",
   "metadata": {},
   "outputs": [
    {
     "data": {
      "text/plain": [
       "['rohan', 'blackcurrant', 'watermelon', 'apple', 5]"
      ]
     },
     "execution_count": 15,
     "metadata": {},
     "output_type": "execute_result"
    }
   ],
   "source": [
    "list1[1:3]=[\"blackcurrant\",\"watermelon\"]\n",
    "list1"
   ]
  },
  {
   "cell_type": "code",
   "execution_count": 16,
   "id": "6b329ce1",
   "metadata": {},
   "outputs": [
    {
     "data": {
      "text/plain": [
       "['rohan', 'blackcurrant', 'kiwi', 'watermelon', 'apple', 5]"
      ]
     },
     "execution_count": 16,
     "metadata": {},
     "output_type": "execute_result"
    }
   ],
   "source": [
    "#inserting items\n",
    "list1.insert(2,\"kiwi\") #inserts at index 2\n",
    "list1"
   ]
  },
  {
   "cell_type": "code",
   "execution_count": 17,
   "id": "c31a9315",
   "metadata": {},
   "outputs": [
    {
     "data": {
      "text/plain": [
       "['rohan', 'blackcurrant', 'kiwi', 'watermelon', 'apple', 5, 'orange']"
      ]
     },
     "execution_count": 17,
     "metadata": {},
     "output_type": "execute_result"
    }
   ],
   "source": [
    "#append() - adds item to end of list\n",
    "list1.append(\"orange\")\n",
    "list1"
   ]
  },
  {
   "cell_type": "code",
   "execution_count": 18,
   "id": "56325aca",
   "metadata": {},
   "outputs": [],
   "source": [
    "#list methods\n",
    "#append() - adds item to end of list\n",
    "#clear() - removes all items\n",
    "#copy() - returns a copy of the list        \n",
    "# count() - returns the number of items with the specified value\n",
    "# extend() - adds the elements of a list (or any iterable), to the end of the current list\n",
    "# index() - returns the index of the first element with the specified value\n",
    "# insert() - adds an element at the specified position\n",
    "# pop() - removes the element at the specified position\n",
    "# remove() - removes the item with the specified value\n",
    "# reverse() - reverses the order of the list\n",
    "#  sort() - sorts the list\n",
    "# sor() - sorts the list\n",
    "#   del - removes the item at the specified index\n",
    "#  del - can also delete the list completely\n",
    "#  del - can also delete a range of indexes"
   ]
  },
  {
   "cell_type": "code",
   "execution_count": 20,
   "id": "cc52584a",
   "metadata": {},
   "outputs": [
    {
     "name": "stdout",
     "output_type": "stream",
     "text": [
      "['rohan', 'blackcurrant', 'kiwi', 'watermelon', 'apple', 5, 'orange', 'mango', 'grapes', 'mango', 'grapes']\n"
     ]
    }
   ],
   "source": [
    "list1.extend([\"mango\",\"grapes\"])\n",
    "print(list1)"
   ]
  },
  {
   "cell_type": "code",
   "execution_count": 22,
   "id": "cb3386c3",
   "metadata": {},
   "outputs": [
    {
     "name": "stdout",
     "output_type": "stream",
     "text": [
      "['rohan', 'blackcurrant', 'watermelon', 'apple', 5, 'orange', 'mango', 'grapes', 'mango', 'grapes']\n"
     ]
    }
   ],
   "source": [
    "list1.remove(\"kiwi\")\n",
    "print(list1)    "
   ]
  },
  {
   "cell_type": "code",
   "execution_count": 23,
   "id": "247b94d5",
   "metadata": {},
   "outputs": [
    {
     "name": "stdout",
     "output_type": "stream",
     "text": [
      "['rohan', 'blackcurrant', 'watermelon', 'apple', 5, 'orange', 'mango', 'grapes', 'mango']\n"
     ]
    }
   ],
   "source": [
    "list1.pop()\n",
    "print(list1)"
   ]
  },
  {
   "cell_type": "code",
   "execution_count": 25,
   "id": "c09fd4f3",
   "metadata": {},
   "outputs": [
    {
     "name": "stdout",
     "output_type": "stream",
     "text": [
      "['rohan', 'watermelon', 'apple', 5, 'orange', 'mango', 'grapes', 'mango']\n"
     ]
    }
   ],
   "source": [
    "list1.pop(1) #removes item at index 1\n",
    "print(list1)"
   ]
  }
 ],
 "metadata": {
  "kernelspec": {
   "display_name": "base",
   "language": "python",
   "name": "python3"
  },
  "language_info": {
   "codemirror_mode": {
    "name": "ipython",
    "version": 3
   },
   "file_extension": ".py",
   "mimetype": "text/x-python",
   "name": "python",
   "nbconvert_exporter": "python",
   "pygments_lexer": "ipython3",
   "version": "3.13.5"
  }
 },
 "nbformat": 4,
 "nbformat_minor": 5
}
