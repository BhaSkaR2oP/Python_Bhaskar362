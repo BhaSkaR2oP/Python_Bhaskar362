{
 "cells": [
  {
   "cell_type": "code",
   "execution_count": 18,
   "id": "72ba0f5a-f4b7-4087-bdd3-f35637ebf2aa",
   "metadata": {},
   "outputs": [
    {
     "name": "stdout",
     "output_type": "stream",
     "text": [
      "3.13.5 | packaged by Anaconda, Inc. | (main, Jun 12 2025, 16:37:03) [MSC v.1929 64 bit (AMD64)]\n"
     ]
    }
   ],
   "source": [
    "#day_1\n",
    "import sys\n",
    "print(sys.version)"
   ]
  },
  {
   "cell_type": "code",
   "execution_count": 2,
   "id": "1be67b2b-d788-484b-b272-182fa90f6b00",
   "metadata": {},
   "outputs": [],
   "source": [
    "#this is comment"
   ]
  },
  {
   "cell_type": "code",
   "execution_count": 3,
   "id": "b1b842da-31e1-4265-a49e-cb912dda6d3c",
   "metadata": {},
   "outputs": [],
   "source": [
    "a=6"
   ]
  },
  {
   "cell_type": "code",
   "execution_count": 4,
   "id": "2ed3ee1e-8663-4be1-a586-86f93bf907a9",
   "metadata": {},
   "outputs": [
    {
     "data": {
      "text/plain": [
       "6"
      ]
     },
     "execution_count": 4,
     "metadata": {},
     "output_type": "execute_result"
    }
   ],
   "source": [
    "a"
   ]
  },
  {
   "cell_type": "code",
   "execution_count": 5,
   "id": "b400b75d-48df-4f59-bf35-acc3a255cf94",
   "metadata": {},
   "outputs": [
    {
     "name": "stdout",
     "output_type": "stream",
     "text": [
      "6\n"
     ]
    }
   ],
   "source": [
    "print(a)"
   ]
  },
  {
   "cell_type": "code",
   "execution_count": 7,
   "id": "c6c79f5a-224d-49be-b882-574295c4316b",
   "metadata": {},
   "outputs": [
    {
     "data": {
      "text/plain": [
       "int"
      ]
     },
     "execution_count": 7,
     "metadata": {},
     "output_type": "execute_result"
    }
   ],
   "source": [
    "type(a)"
   ]
  },
  {
   "cell_type": "code",
   "execution_count": 8,
   "id": "c49b6458-5d61-47f9-9ace-5a61e3f7b06e",
   "metadata": {},
   "outputs": [
    {
     "data": {
      "text/plain": [
       "140737295529032"
      ]
     },
     "execution_count": 8,
     "metadata": {},
     "output_type": "execute_result"
    }
   ],
   "source": [
    "id(a)"
   ]
  },
  {
   "cell_type": "code",
   "execution_count": 9,
   "id": "784f3380-b10e-4048-bf25-3b44a5ab3556",
   "metadata": {},
   "outputs": [],
   "source": [
    "del(a)"
   ]
  },
  {
   "cell_type": "code",
   "execution_count": 10,
   "id": "5d4ddcd4-5d98-4c12-8fb7-eec2a0ae6696",
   "metadata": {},
   "outputs": [
    {
     "ename": "NameError",
     "evalue": "name 'a' is not defined",
     "output_type": "error",
     "traceback": [
      "\u001b[1;31m---------------------------------------------------------------------------\u001b[0m",
      "\u001b[1;31mNameError\u001b[0m                                 Traceback (most recent call last)",
      "Cell \u001b[1;32mIn[10], line 1\u001b[0m\n\u001b[1;32m----> 1\u001b[0m a\n",
      "\u001b[1;31mNameError\u001b[0m: name 'a' is not defined"
     ]
    }
   ],
   "source": [
    "a"
   ]
  },
  {
   "cell_type": "code",
   "execution_count": 11,
   "id": "d8bbfdd5-8bdb-49a8-b115-d9942e1f9f7a",
   "metadata": {},
   "outputs": [
    {
     "data": {
      "text/plain": [
       "18"
      ]
     },
     "execution_count": 11,
     "metadata": {},
     "output_type": "execute_result"
    }
   ],
   "source": [
    "18"
   ]
  },
  {
   "cell_type": "code",
   "execution_count": 12,
   "id": "d722534f-5f64-4eda-b7c0-bcf87940fede",
   "metadata": {},
   "outputs": [
    {
     "data": {
      "text/plain": [
       "140737295529416"
      ]
     },
     "execution_count": 12,
     "metadata": {},
     "output_type": "execute_result"
    }
   ],
   "source": [
    "id(18)"
   ]
  },
  {
   "cell_type": "code",
   "execution_count": 13,
   "id": "9dc6b0e2-e764-4ed2-bfa6-01f677494681",
   "metadata": {},
   "outputs": [
    {
     "data": {
      "text/plain": [
       "int"
      ]
     },
     "execution_count": 13,
     "metadata": {},
     "output_type": "execute_result"
    }
   ],
   "source": [
    "type(18)"
   ]
  },
  {
   "cell_type": "code",
   "execution_count": 14,
   "id": "9ec47961-78eb-4ebc-9173-9f8f2776c53c",
   "metadata": {},
   "outputs": [
    {
     "ename": "SyntaxError",
     "evalue": "cannot delete literal (2874631695.py, line 1)",
     "output_type": "error",
     "traceback": [
      "\u001b[1;36m  Cell \u001b[1;32mIn[14], line 1\u001b[1;36m\u001b[0m\n\u001b[1;33m    del(18)\u001b[0m\n\u001b[1;37m        ^\u001b[0m\n\u001b[1;31mSyntaxError\u001b[0m\u001b[1;31m:\u001b[0m cannot delete literal\n"
     ]
    }
   ],
   "source": [
    "del(18)"
   ]
  },
  {
   "cell_type": "code",
   "execution_count": 15,
   "id": "327d2e01-61c8-4302-a9ed-3edb0d207a3c",
   "metadata": {},
   "outputs": [
    {
     "data": {
      "text/plain": [
       "23"
      ]
     },
     "execution_count": 15,
     "metadata": {},
     "output_type": "execute_result"
    }
   ],
   "source": [
    "list=[2,5,7,9,15,23]\n",
    "max(list)"
   ]
  },
  {
   "cell_type": "code",
   "execution_count": 17,
   "id": "937dfe5a-e704-426e-be2a-d2f06b37adc2",
   "metadata": {},
   "outputs": [],
   "source": [
    "#day_2\n",
    "a=5"
   ]
  },
  {
   "cell_type": "code",
   "execution_count": 2,
   "id": "2564a61e-eecb-4ac2-8831-453d75615079",
   "metadata": {},
   "outputs": [
    {
     "data": {
      "text/plain": [
       "int"
      ]
     },
     "execution_count": 2,
     "metadata": {},
     "output_type": "execute_result"
    }
   ],
   "source": [
    "type(a)"
   ]
  },
  {
   "cell_type": "code",
   "execution_count": 3,
   "id": "2d5a9f2b-9236-44b3-86ad-043dbc290ca9",
   "metadata": {},
   "outputs": [
    {
     "data": {
      "text/plain": [
       "'5'"
      ]
     },
     "execution_count": 3,
     "metadata": {},
     "output_type": "execute_result"
    }
   ],
   "source": [
    "str(a)"
   ]
  },
  {
   "cell_type": "code",
   "execution_count": 4,
   "id": "6e59edc5-d32c-4459-9382-cc5bfa3ec0d2",
   "metadata": {},
   "outputs": [
    {
     "data": {
      "text/plain": [
       "int"
      ]
     },
     "execution_count": 4,
     "metadata": {},
     "output_type": "execute_result"
    }
   ],
   "source": [
    "type(a)"
   ]
  },
  {
   "cell_type": "code",
   "execution_count": 5,
   "id": "a9497280-4c67-423f-86d6-330c7ad8f247",
   "metadata": {},
   "outputs": [],
   "source": [
    "a=str(a)"
   ]
  },
  {
   "cell_type": "code",
   "execution_count": 6,
   "id": "c3958648-59c4-4eae-be63-30a3a80ae570",
   "metadata": {},
   "outputs": [
    {
     "data": {
      "text/plain": [
       "str"
      ]
     },
     "execution_count": 6,
     "metadata": {},
     "output_type": "execute_result"
    }
   ],
   "source": [
    "type(a)"
   ]
  },
  {
   "cell_type": "code",
   "execution_count": 7,
   "id": "fe79b16b-4337-430e-bdd5-000d3f9e1451",
   "metadata": {},
   "outputs": [],
   "source": [
    "a=float(a)"
   ]
  },
  {
   "cell_type": "code",
   "execution_count": 8,
   "id": "070a00f2-b0a0-41f6-8b18-e637638edf2d",
   "metadata": {},
   "outputs": [
    {
     "data": {
      "text/plain": [
       "float"
      ]
     },
     "execution_count": 8,
     "metadata": {},
     "output_type": "execute_result"
    }
   ],
   "source": [
    "type(a)"
   ]
  },
  {
   "cell_type": "code",
   "execution_count": 9,
   "id": "52879c0d-77a3-4c6a-88ee-e345b4f197b1",
   "metadata": {},
   "outputs": [
    {
     "data": {
      "text/plain": [
       "5.0"
      ]
     },
     "execution_count": 9,
     "metadata": {},
     "output_type": "execute_result"
    }
   ],
   "source": [
    "a"
   ]
  },
  {
   "cell_type": "code",
   "execution_count": 10,
   "id": "a40cb2a7-358e-472f-812a-1c6ee8127350",
   "metadata": {},
   "outputs": [],
   "source": [
    "a=b=c=10"
   ]
  },
  {
   "cell_type": "code",
   "execution_count": 11,
   "id": "b85300d3-3483-415b-b24f-771f80eec90f",
   "metadata": {},
   "outputs": [
    {
     "data": {
      "text/plain": [
       "10"
      ]
     },
     "execution_count": 11,
     "metadata": {},
     "output_type": "execute_result"
    }
   ],
   "source": [
    "a"
   ]
  },
  {
   "cell_type": "code",
   "execution_count": 12,
   "id": "00592aeb-97c8-48a1-b99a-e616237c9c25",
   "metadata": {},
   "outputs": [
    {
     "data": {
      "text/plain": [
       "10"
      ]
     },
     "execution_count": 12,
     "metadata": {},
     "output_type": "execute_result"
    }
   ],
   "source": [
    "b"
   ]
  },
  {
   "cell_type": "code",
   "execution_count": 13,
   "id": "9bd7cc26-c9a7-47c8-a168-bd6efed98ddb",
   "metadata": {},
   "outputs": [
    {
     "data": {
      "text/plain": [
       "10"
      ]
     },
     "execution_count": 13,
     "metadata": {},
     "output_type": "execute_result"
    }
   ],
   "source": [
    "c"
   ]
  },
  {
   "cell_type": "code",
   "execution_count": 14,
   "id": "28600e8e-573f-4a11-ad9a-12916d94df55",
   "metadata": {},
   "outputs": [
    {
     "data": {
      "text/plain": [
       "140718193161416"
      ]
     },
     "execution_count": 14,
     "metadata": {},
     "output_type": "execute_result"
    }
   ],
   "source": [
    "id(a)"
   ]
  },
  {
   "cell_type": "code",
   "execution_count": 15,
   "id": "732f83bc-4f78-4e3d-873d-50c4487f4cf8",
   "metadata": {},
   "outputs": [
    {
     "data": {
      "text/plain": [
       "140718193161416"
      ]
     },
     "execution_count": 15,
     "metadata": {},
     "output_type": "execute_result"
    }
   ],
   "source": [
    "id(b)"
   ]
  },
  {
   "cell_type": "code",
   "execution_count": 16,
   "id": "f1ade96b-f5cd-4915-91a7-c1b08849352f",
   "metadata": {},
   "outputs": [
    {
     "data": {
      "text/plain": [
       "140718193161416"
      ]
     },
     "execution_count": 16,
     "metadata": {},
     "output_type": "execute_result"
    }
   ],
   "source": [
    "id(c)"
   ]
  },
  {
   "cell_type": "code",
   "execution_count": 19,
   "id": "3599a8f1-f10b-4862-a467-bf00dc2f7b48",
   "metadata": {},
   "outputs": [],
   "source": [
    "#camel_case\n",
    "#myVariableName"
   ]
  },
  {
   "cell_type": "code",
   "execution_count": 20,
   "id": "f80f3574-65d4-4ebf-bcb1-d883fa77b3ef",
   "metadata": {},
   "outputs": [],
   "source": [
    "#pasacal_case=MyVariableName"
   ]
  },
  {
   "cell_type": "code",
   "execution_count": 21,
   "id": "0eb49d2f-c7d3-41af-b34d-a43d89b0a0bc",
   "metadata": {},
   "outputs": [],
   "source": [
    "#snake_case = my_variable_name"
   ]
  },
  {
   "cell_type": "code",
   "execution_count": null,
   "id": "56181135-7116-425e-b7dd-f41113e814d4",
   "metadata": {},
   "outputs": [],
   "source": []
  }
 ],
 "metadata": {
  "kernelspec": {
   "display_name": "Python [conda env:base] *",
   "language": "python",
   "name": "conda-base-py"
  },
  "language_info": {
   "codemirror_mode": {
    "name": "ipython",
    "version": 3
   },
   "file_extension": ".py",
   "mimetype": "text/x-python",
   "name": "python",
   "nbconvert_exporter": "python",
   "pygments_lexer": "ipython3",
   "version": "3.13.5"
  }
 },
 "nbformat": 4,
 "nbformat_minor": 5
}
